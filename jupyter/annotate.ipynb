{
 "cells": [
  {
   "cell_type": "code",
   "execution_count": 31,
   "id": "e515382d",
   "metadata": {},
   "outputs": [
    {
     "name": "stdout",
     "output_type": "stream",
     "text": [
      "SYM\t\t130000\n",
      "YAMAHA\t\t92000\n",
      "KYMCO\t\t97000\n",
      "PGO\t\t85000\n"
     ]
    }
   ],
   "source": [
    "from Accounts.models import Brand\n",
    "\n",
    "querysets = Brand.objects.annotate(Max('moto__price'))\n",
    "\n",
    "for queryset in querysets:\n",
    "    print(f\"\"\"{queryset.name}\\t{queryset.moto__price__max}\"\"\")"
   ]
  },
  {
   "cell_type": "code",
   "execution_count": 8,
   "id": "93738b47",
   "metadata": {},
   "outputs": [
    {
     "name": "stdout",
     "output_type": "stream",
     "text": [
      "SYM\t130000\t87000\t103333.33333333333\n",
      "YAMAHA\t92000\t92000\t92000.0\n",
      "KYMCO\t97000\t97000\t97000.0\n",
      "PGO\t85000\t85000\t85000.0\n"
     ]
    }
   ],
   "source": [
    "from Accounts.models import Brand\n",
    "\n",
    "querysets = Brand.objects.annotate(max_price=Max('moto__price'), min_price=Min('moto__price'), avg_price=Avg('moto__price'))\n",
    "\n",
    "for queryset in querysets:\n",
    "    print(f\"\"\"{queryset.name}\\t{queryset.max_price}\\t{queryset.min_price}\\t{queryset.avg_price}\"\"\")"
   ]
  },
  {
   "cell_type": "code",
   "execution_count": 4,
   "id": "b10092d6",
   "metadata": {},
   "outputs": [
    {
     "name": "stdout",
     "output_type": "stream",
     "text": [
      "<QuerySet [<Brand: SYM>]>\n"
     ]
    }
   ],
   "source": [
    "querysets = Brand.objects.annotate(product_count=Count('moto__price')).filter(product_count__gt=2)\n",
    "print(querysets)"
   ]
  },
  {
   "cell_type": "code",
   "execution_count": 5,
   "id": "af0d54aa",
   "metadata": {},
   "outputs": [
    {
     "name": "stdout",
     "output_type": "stream",
     "text": [
      "<QuerySet [{'name': 'SYM', 'product_count': 3}]>\n"
     ]
    }
   ],
   "source": [
    "querysets = Brand.objects.values('name').annotate(product_count=Count('moto__price')).filter(product_count__gt=2)\n",
    "print(querysets)"
   ]
  },
  {
   "cell_type": "code",
   "execution_count": 9,
   "id": "8df13112",
   "metadata": {},
   "outputs": [
    {
     "data": {
      "text/plain": [
       "<QuerySet [<Brand: SYM>, <Brand: YAMAHA>, <Brand: KYMCO>, <Brand: PGO>, <Brand: SYM>]>"
      ]
     },
     "execution_count": 9,
     "metadata": {},
     "output_type": "execute_result"
    }
   ],
   "source": [
    "Brand.objects.annotate(Count('name'))"
   ]
  },
  {
   "cell_type": "code",
   "execution_count": null,
   "id": "8ee3b606",
   "metadata": {},
   "outputs": [],
   "source": []
  }
 ],
 "metadata": {
  "kernelspec": {
   "display_name": "Django Shell-Plus",
   "language": "python",
   "name": "django_extensions"
  },
  "language_info": {
   "codemirror_mode": {
    "name": "ipython",
    "version": 3
   },
   "file_extension": ".py",
   "mimetype": "text/x-python",
   "name": "python",
   "nbconvert_exporter": "python",
   "pygments_lexer": "ipython3",
   "version": "3.9.5"
  }
 },
 "nbformat": 4,
 "nbformat_minor": 5
}
